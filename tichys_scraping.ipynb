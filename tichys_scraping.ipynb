{
 "cells": [
  {
   "cell_type": "code",
   "execution_count": 25,
   "id": "d5b94f47",
   "metadata": {},
   "outputs": [
    {
     "name": "stdout",
     "output_type": "stream",
     "text": [
      "Requirement already satisfied: beautifulsoup4 in /opt/anaconda3/lib/python3.12/site-packages (4.12.3)\n",
      "Requirement already satisfied: soupsieve>1.2 in /opt/anaconda3/lib/python3.12/site-packages (from beautifulsoup4) (2.5)\n",
      "\n",
      "\u001b[1m[\u001b[0m\u001b[34;49mnotice\u001b[0m\u001b[1;39;49m]\u001b[0m\u001b[39;49m A new release of pip is available: \u001b[0m\u001b[31;49m25.0.1\u001b[0m\u001b[39;49m -> \u001b[0m\u001b[32;49m25.2\u001b[0m\n",
      "\u001b[1m[\u001b[0m\u001b[34;49mnotice\u001b[0m\u001b[1;39;49m]\u001b[0m\u001b[39;49m To update, run: \u001b[0m\u001b[32;49mpip install --upgrade pip\u001b[0m\n"
     ]
    }
   ],
   "source": [
    "!pip install beautifulsoup4"
   ]
  },
  {
   "cell_type": "code",
   "execution_count": 33,
   "id": "4b2dd8a4",
   "metadata": {},
   "outputs": [],
   "source": [
    "import pandas as pd"
   ]
  },
  {
   "cell_type": "code",
   "execution_count": 66,
   "id": "ac34979f",
   "metadata": {},
   "outputs": [],
   "source": [
    "import urllib.request\n",
    "import re\n",
    "import time\n",
    "from bs4 import BeautifulSoup\n",
    "\n",
    "list_urls = []\n",
    "failedAttempts = []"
   ]
  },
  {
   "cell_type": "code",
   "execution_count": 67,
   "id": "f88782f3",
   "metadata": {},
   "outputs": [],
   "source": [
    "# Define query to be searched on the blog\n",
    "\n",
    "query = 'Gesetz+zur+Verbesserung+der+Rechtsdurchsetzung+in+sozialen+Netzwerken'"
   ]
  },
  {
   "cell_type": "code",
   "execution_count": 68,
   "id": "9b01937c",
   "metadata": {},
   "outputs": [],
   "source": [
    "# Loop through the blog pages and collect URLs\n",
    "\n",
    "startValue = 1\n",
    "\n",
    "for pages in range(1, 2):\n",
    "\n",
    "  #each part of the URL. Split up to be easier to read.\n",
    "  url = 'https://www.tichyseinblick.de/page/'\n",
    "  url += str(startValue)\n",
    "  url += '/?s='\n",
    "  url += query\n",
    "\n",
    " #download the page and save the result.\n",
    "  try:\n",
    "    response = urllib.request.urlopen(url)\n",
    "    webContent = response.read().decode('UTF-8')\n",
    "\n",
    "  except urllib.error.URLError:\n",
    "    failedAttempts.append(url)\n",
    "\n",
    "  soup = BeautifulSoup(webContent, 'html.parser')\n",
    "\n",
    "  # Find all matching <div> blocks\n",
    "  divs = soup.find_all('div', class_='category-content-title')\n",
    "\n",
    "  # Extract href from each <a> tag\n",
    "  urls = [div.find('a')['href'] for div in divs if div.find('a') and div.find('a').has_attr('href')]\n",
    "\n",
    "  # Print the extracted URLs\n",
    "  for url in urls:\n",
    "    list_urls.append(url)\n",
    "\n",
    "  startValue = startValue + 1\n",
    "\n",
    "  time.sleep(10)"
   ]
  },
  {
   "cell_type": "code",
   "execution_count": 58,
   "id": "6dcfca20",
   "metadata": {},
   "outputs": [
    {
     "data": {
      "text/plain": [
       "['https://www.tichyseinblick.de/daili-es-sentials/der-wissenschaftliche-dienst-des-bundestages-netzwerkdurchsetzungsgesetz-verfassungswidrig/',\n",
       " 'https://www.tichyseinblick.de/daili-es-sentials/schlappe-fuer-maas-wissenschaftlicher-dienst-haelt-netzwerkdurchsetzungsgesetz-fuer-europarechtswidrig/',\n",
       " 'https://www.tichyseinblick.de/daili-es-sentials/netzdg-schockierende-enthuellung-zum-netzwerkdurchsetzungsgesetz/',\n",
       " 'https://www.tichyseinblick.de/meinungen/netzdg-maas-netzwerkdurchsetzungsgesetz/',\n",
       " 'https://www.tichyseinblick.de/daili-es-sentials/verlegerverband-vdz-gegen-netzwerkdurchsetzungsgesetz/',\n",
       " 'https://www.tichyseinblick.de/gastbeitrag/netzwerkdurchsetzungsgesetz-meinungsfreiheit-in-gefahr/',\n",
       " 'https://www.tichyseinblick.de/daili-es-sentials/stimmen-zum-geplanten-netzwerkdurchsetzungsgesetz/',\n",
       " 'https://www.tichyseinblick.de/meinungen/maas-netzwerkdurchsetzungsgesetz-netzdg/',\n",
       " 'https://www.tichyseinblick.de/meinungen/abschaffung-informationsfreiheitsgesetz/',\n",
       " 'https://www.tichyseinblick.de/daili-es-sentials/verfassungsschutz-afd-programm-verdachstfall/',\n",
       " 'https://www.tichyseinblick.de/daili-es-sentials/meldestellen-dsa-bundesregierung-anfrage/',\n",
       " 'https://www.tichyseinblick.de/meinungen/gruene-drehtuere-gruene-macht-gruene-zensur/',\n",
       " 'https://www.tichyseinblick.de/feuilleton/medien/battleground-germany-habeck-musk-meinungsfreiheit/',\n",
       " 'https://www.tichyseinblick.de/kolumnen/aus-aller-welt/jd-vance-droht-eu-staaten-mit-konsequenzen-wegen-zensurplaenen/',\n",
       " 'https://www.tichyseinblick.de/kolumnen/vorwort-zum-sonntag/evangelische-wochenzeitung-peter-hahne/',\n",
       " 'https://www.tichyseinblick.de/video/interview/verfassungssrichter-staatsstreich-hinterzimmer/']"
      ]
     },
     "execution_count": 58,
     "metadata": {},
     "output_type": "execute_result"
    }
   ],
   "source": [
    "list_urls"
   ]
  },
  {
   "cell_type": "code",
   "execution_count": 69,
   "id": "7c8a061e",
   "metadata": {},
   "outputs": [],
   "source": [
    "# Remove duplicates\n",
    "list_urls = list(set(list_urls))"
   ]
  },
  {
   "cell_type": "code",
   "execution_count": 70,
   "id": "9ac01a31",
   "metadata": {},
   "outputs": [
    {
     "name": "stdout",
     "output_type": "stream",
     "text": [
      "8\n"
     ]
    }
   ],
   "source": [
    "# Count how many URLs there are in list_urls\n",
    "print(len(list_urls))"
   ]
  },
  {
   "cell_type": "code",
   "execution_count": 71,
   "id": "083860a9",
   "metadata": {},
   "outputs": [
    {
     "data": {
      "text/html": [
       "<div>\n",
       "<style scoped>\n",
       "    .dataframe tbody tr th:only-of-type {\n",
       "        vertical-align: middle;\n",
       "    }\n",
       "\n",
       "    .dataframe tbody tr th {\n",
       "        vertical-align: top;\n",
       "    }\n",
       "\n",
       "    .dataframe thead th {\n",
       "        text-align: right;\n",
       "    }\n",
       "</style>\n",
       "<table border=\"1\" class=\"dataframe\">\n",
       "  <thead>\n",
       "    <tr style=\"text-align: right;\">\n",
       "      <th></th>\n",
       "      <th>URL</th>\n",
       "    </tr>\n",
       "  </thead>\n",
       "  <tbody>\n",
       "    <tr>\n",
       "      <th>0</th>\n",
       "      <td>https://www.tichyseinblick.de/kolumnen/josef-kraus-lernen-und-bildung/maas-macht-mobil/</td>\n",
       "    </tr>\n",
       "    <tr>\n",
       "      <th>1</th>\n",
       "      <td>https://www.tichyseinblick.de/video/interview/verfassungssrichter-staatsstreich-hinterzimmer/</td>\n",
       "    </tr>\n",
       "    <tr>\n",
       "      <th>2</th>\n",
       "      <td>https://www.tichyseinblick.de/kolumnen/josef-kraus-lernen-und-bildung/aussenminister-heiko-maas-gendert-auch-buecherverbrenner/</td>\n",
       "    </tr>\n",
       "    <tr>\n",
       "      <th>3</th>\n",
       "      <td>https://www.tichyseinblick.de/daili-es-sentials/netzdg-afd-und-die-linke/</td>\n",
       "    </tr>\n",
       "    <tr>\n",
       "      <th>4</th>\n",
       "      <td>https://www.tichyseinblick.de/daili-es-sentials/auch-ansteckend-hass-und-hetze/</td>\n",
       "    </tr>\n",
       "  </tbody>\n",
       "</table>\n",
       "</div>"
      ],
      "text/plain": [
       "                                                                                                                               URL\n",
       "0                                          https://www.tichyseinblick.de/kolumnen/josef-kraus-lernen-und-bildung/maas-macht-mobil/\n",
       "1                                    https://www.tichyseinblick.de/video/interview/verfassungssrichter-staatsstreich-hinterzimmer/\n",
       "2  https://www.tichyseinblick.de/kolumnen/josef-kraus-lernen-und-bildung/aussenminister-heiko-maas-gendert-auch-buecherverbrenner/\n",
       "3                                                        https://www.tichyseinblick.de/daili-es-sentials/netzdg-afd-und-die-linke/\n",
       "4                                                  https://www.tichyseinblick.de/daili-es-sentials/auch-ansteckend-hass-und-hetze/"
      ]
     },
     "metadata": {},
     "output_type": "display_data"
    }
   ],
   "source": [
    "df_urls = pd.DataFrame(list_urls, columns=['URL'])\n",
    "display(df_urls.head())"
   ]
  },
  {
   "cell_type": "code",
   "execution_count": 72,
   "id": "21b34494",
   "metadata": {},
   "outputs": [
    {
     "name": "stdout",
     "output_type": "stream",
     "text": [
      "<class 'pandas.core.frame.DataFrame'>\n",
      "RangeIndex: 8 entries, 0 to 7\n",
      "Data columns (total 1 columns):\n",
      " #   Column  Non-Null Count  Dtype \n",
      "---  ------  --------------  ----- \n",
      " 0   URL     8 non-null      object\n",
      "dtypes: object(1)\n",
      "memory usage: 196.0+ bytes\n"
     ]
    }
   ],
   "source": [
    "df_urls.info()"
   ]
  },
  {
   "cell_type": "code",
   "execution_count": 73,
   "id": "c5a88e4c",
   "metadata": {},
   "outputs": [],
   "source": [
    "pd.set_option('display.max_colwidth', None)"
   ]
  },
  {
   "cell_type": "code",
   "execution_count": 74,
   "id": "049c235c",
   "metadata": {},
   "outputs": [
    {
     "data": {
      "text/html": [
       "<div>\n",
       "<style scoped>\n",
       "    .dataframe tbody tr th:only-of-type {\n",
       "        vertical-align: middle;\n",
       "    }\n",
       "\n",
       "    .dataframe tbody tr th {\n",
       "        vertical-align: top;\n",
       "    }\n",
       "\n",
       "    .dataframe thead th {\n",
       "        text-align: right;\n",
       "    }\n",
       "</style>\n",
       "<table border=\"1\" class=\"dataframe\">\n",
       "  <thead>\n",
       "    <tr style=\"text-align: right;\">\n",
       "      <th></th>\n",
       "      <th>URL</th>\n",
       "    </tr>\n",
       "  </thead>\n",
       "  <tbody>\n",
       "    <tr>\n",
       "      <th>3</th>\n",
       "      <td>https://www.tichyseinblick.de/daili-es-sentials/netzdg-afd-und-die-linke/</td>\n",
       "    </tr>\n",
       "    <tr>\n",
       "      <th>4</th>\n",
       "      <td>https://www.tichyseinblick.de/daili-es-sentials/auch-ansteckend-hass-und-hetze/</td>\n",
       "    </tr>\n",
       "    <tr>\n",
       "      <th>5</th>\n",
       "      <td>https://www.tichyseinblick.de/daili-es-sentials/netzdg-pressemitteilungen-fdp-nicola-beer-und-die-piraten/</td>\n",
       "    </tr>\n",
       "    <tr>\n",
       "      <th>6</th>\n",
       "      <td>https://www.tichyseinblick.de/feuilleton/buecher/douglas-murray-vorwort-an-seine-deutschen-leserdouglas-murray-vorwort-an-seine-deutschen-leser/</td>\n",
       "    </tr>\n",
       "    <tr>\n",
       "      <th>7</th>\n",
       "      <td>https://www.tichyseinblick.de/meinungen/maas-netzwerkdurchsetzungsgesetz-netzdg/</td>\n",
       "    </tr>\n",
       "  </tbody>\n",
       "</table>\n",
       "</div>"
      ],
      "text/plain": [
       "                                                                                                                                                URL\n",
       "3                                                                         https://www.tichyseinblick.de/daili-es-sentials/netzdg-afd-und-die-linke/\n",
       "4                                                                   https://www.tichyseinblick.de/daili-es-sentials/auch-ansteckend-hass-und-hetze/\n",
       "5                                        https://www.tichyseinblick.de/daili-es-sentials/netzdg-pressemitteilungen-fdp-nicola-beer-und-die-piraten/\n",
       "6  https://www.tichyseinblick.de/feuilleton/buecher/douglas-murray-vorwort-an-seine-deutschen-leserdouglas-murray-vorwort-an-seine-deutschen-leser/\n",
       "7                                                                  https://www.tichyseinblick.de/meinungen/maas-netzwerkdurchsetzungsgesetz-netzdg/"
      ]
     },
     "execution_count": 74,
     "metadata": {},
     "output_type": "execute_result"
    }
   ],
   "source": [
    "df_urls[3:10]"
   ]
  },
  {
   "cell_type": "code",
   "execution_count": 75,
   "id": "dbf7fc89",
   "metadata": {},
   "outputs": [],
   "source": [
    "df_urls.to_csv('/Users/caio.mello/Documents/NetzDG_project/NetzDG_data/tichyseinblick_scraping/tichys_Gesetz+zur+Verbesserung+der+Rechtsdurchsetzung+in+sozialen+Netzwerken.csv')"
   ]
  },
  {
   "cell_type": "code",
   "execution_count": null,
   "id": "87bc4295",
   "metadata": {},
   "outputs": [],
   "source": []
  },
  {
   "cell_type": "code",
   "execution_count": 44,
   "id": "774f6a01",
   "metadata": {},
   "outputs": [
    {
     "data": {
      "text/plain": [
       "[]"
      ]
     },
     "execution_count": 44,
     "metadata": {},
     "output_type": "execute_result"
    }
   ],
   "source": [
    "failedAttempts"
   ]
  }
 ],
 "metadata": {
  "kernelspec": {
   "display_name": "base",
   "language": "python",
   "name": "python3"
  },
  "language_info": {
   "codemirror_mode": {
    "name": "ipython",
    "version": 3
   },
   "file_extension": ".py",
   "mimetype": "text/x-python",
   "name": "python",
   "nbconvert_exporter": "python",
   "pygments_lexer": "ipython3",
   "version": "3.12.7"
  }
 },
 "nbformat": 4,
 "nbformat_minor": 5
}
