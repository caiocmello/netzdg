{
 "cells": [
  {
   "cell_type": "markdown",
   "id": "68986858",
   "metadata": {},
   "source": [
    "<a href=\"https://colab.research.google.com/github/caiocmello/netzdg/blob/main/Sec230_context.ipynb\" target=\"_parent\"><img src=\"https://colab.research.google.com/assets/colab-badge.svg\" alt=\"Open In Colab\"/></a>"
   ]
  },
  {
   "cell_type": "markdown",
   "id": "7d5945ad",
   "metadata": {},
   "source": [
    "# **Sec230 context**\n",
    "This notebook facilitates exploring the context of debates on Sec230 data. Dataset to be used is 'sec230_tweets_postedby_top100.csv'\n",
    "PS: This dataset just included tweets posted by top 100 most retweeted accounts"
   ]
  },
  {
   "cell_type": "code",
   "execution_count": null,
   "id": "4dd39eab",
   "metadata": {},
   "outputs": [],
   "source": [
    "import pandas as pd\n",
    "import nltk\n",
    "import spacy\n",
    "import plotly.express as px\n",
    "import plotly.graph_objects as go\n",
    "import re\n",
    "import os\n",
    "import warnings\n",
    "warnings.filterwarnings(\"ignore\", category=DeprecationWarning)\n",
    "from spacy.lang.en.stop_words import STOP_WORDS as en_stopwords\n",
    "from spacy.lang.de.stop_words import STOP_WORDS as de_stopwords\n",
    "from nltk.stem import WordNetLemmatizer\n",
    "from nltk.corpus import wordnet\n",
    "from nltk import ngrams\n",
    "from sklearn.feature_extraction.text import CountVectorizer, TfidfVectorizer\n",
    "# Load the dataframe into colab\n",
    "url = 'sec230_tweets_postedby_top100.csv'\n",
    "df = pd.read_csv(url,index_col=0)\n",
    "pd.set_option('display.max_colwidth', None)\n",
    "# remove duplicated values in column 'text'\n",
    "df.drop_duplicates(subset='text', inplace=True)"
   ]
  },
  {
   "cell_type": "code",
   "execution_count": null,
   "id": "bf8269a9",
   "metadata": {},
   "outputs": [],
   "source": [
    "# @title Choose a word to see context (PS: if column 'word' is 'None', word is probably used as hashtag in text)\n",
    "word = \"freedom\" # @param {type:\"string\"}\n",
    "\n",
    "sentences_with_word = df[df['text'].str.contains(word, case=False, na=False)]\n",
    "\n",
    "# Split the sentences at the word 'x'\n",
    "split_sentences = sentences_with_word['text'].str.split(word, n=1, expand=True)\n",
    "\n",
    "# Rename the columns\n",
    "split_sentences.columns = ['Before', 'After']\n",
    "split_sentences.insert(1, 'word', word)\n",
    "split_sentences['word'] = split_sentences.apply(lambda row: 'None' if pd.isnull(row['After']) else row['word'], axis=1)\n",
    "split_sentences\n"
   ]
  },
  {
   "cell_type": "code",
   "execution_count": null,
   "id": "1e92cc92",
   "metadata": {},
   "outputs": [],
   "source": [
    "# Count how many tweets were posted by user containing the above searched word \n",
    "count = df.index.value_counts()\n",
    "count_df = pd.DataFrame(count)\n",
    "count_df\n"
   ]
  },
  {
   "cell_type": "code",
   "execution_count": null,
   "id": "7c538dcd",
   "metadata": {},
   "outputs": [],
   "source": [
    "# @title Generate a wordcloud with the most mentioned words in text where the word chosen above is mentioned\n",
    "# create a wordcloud with words mentioned in column 'text' when word 'x' is found\n",
    "\n",
    "from wordcloud import WordCloud\n",
    "import matplotlib.pyplot as plt\n",
    "\n",
    "stopwords_de = list(de_stopwords)\n",
    "stopwords_en = list(en_stopwords)\n",
    "stopwords = stopwords_de + stopwords_en #create a mixed list of stopwords (German and English)\n",
    "# Edit your list of stopwords manually\n",
    "add_to_stopwords = ['rt', 'https', 't', 'co']\n",
    "stopwords = stopwords + add_to_stopwords\n",
    "\n",
    "sentences_with_word = df[df['text'].str.contains(word, case=False, na=False)]\n",
    "text = \" \".join(sentences_with_word['text'].tolist())\n",
    "\n",
    "wordcloud = WordCloud(width=800, height=600, background_color='white', stopwords=stopwords).generate(text)\n",
    "\n",
    "plt.figure(figsize=(10, 7))\n",
    "plt.imshow(wordcloud, interpolation='bilinear')\n",
    "plt.axis('off')\n",
    "plt.show()"
   ]
  },
  {
   "cell_type": "code",
   "execution_count": null,
   "id": "1ffb5f81",
   "metadata": {},
   "outputs": [],
   "source": [
    "find_df = df[df['text'].str.contains('Every time someone calls out Big Tech', case=False, na=False)]\n",
    "find_df"
   ]
  }
 ],
 "metadata": {
  "kernelspec": {
   "display_name": "base",
   "language": "python",
   "name": "python3"
  },
  "language_info": {
   "codemirror_mode": {
    "name": "ipython",
    "version": 3
   },
   "file_extension": ".py",
   "mimetype": "text/x-python",
   "name": "python",
   "nbconvert_exporter": "python",
   "pygments_lexer": "ipython3",
   "version": "3.12.7"
  }
 },
 "nbformat": 4,
 "nbformat_minor": 5
}
