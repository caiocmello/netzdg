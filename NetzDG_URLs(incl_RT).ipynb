{
  "nbformat": 4,
  "nbformat_minor": 0,
  "metadata": {
    "colab": {
      "provenance": [],
      "authorship_tag": "ABX9TyOqnJgQ1UAl8GszjSvEE8bH",
      "include_colab_link": true
    },
    "kernelspec": {
      "name": "python3",
      "display_name": "Python 3"
    },
    "language_info": {
      "name": "python"
    }
  },
  "cells": [
    {
      "cell_type": "markdown",
      "metadata": {
        "id": "view-in-github",
        "colab_type": "text"
      },
      "source": [
        "<a href=\"https://colab.research.google.com/github/caiocmello/netzdg/blob/main/NetzDG_URLs(incl_RT).ipynb\" target=\"_parent\"><img src=\"https://colab.research.google.com/assets/colab-badge.svg\" alt=\"Open In Colab\"/></a>"
      ]
    },
    {
      "cell_type": "code",
      "source": [
        "# @title Run to install packages (use csv file 'df_urls_inclRT2.csv')\n",
        "import pandas as pd\n",
        "import nltk\n",
        "import spacy\n",
        "import plotly.express as px\n",
        "import plotly.graph_objects as go\n",
        "import re\n",
        "import os\n",
        "import warnings\n",
        "warnings.filterwarnings(\"ignore\", category=DeprecationWarning)\n",
        "from spacy.lang.en.stop_words import STOP_WORDS as en_stopwords\n",
        "from spacy.lang.de.stop_words import STOP_WORDS as de_stopwords\n",
        "from nltk.stem import WordNetLemmatizer\n",
        "from nltk.corpus import wordnet\n",
        "from nltk import ngrams\n",
        "from wordcloud import WordCloud\n",
        "import matplotlib.pyplot as plt\n",
        "from sklearn.feature_extraction.text import CountVectorizer, TfidfVectorizer\n",
        "import pandas as pd\n",
        "df = pd.read_csv('df_urls_inclRT2.csv')\n",
        "pd.set_option('display.max_rows', None)  # Show all rows\n",
        "pd.set_option('display.max_columns', None)  # Show all columns\n",
        "df['original_url'] = df['original_url'].astype(str)\n",
        "def clean_url(url):\n",
        "  parts = url.split('/')\n",
        "  if len(parts) >= 4:\n",
        "    return '/'.join(parts[:3])\n",
        "  else:\n",
        "    return url\n",
        "\n",
        "df['cleaned_url'] = df['original_url'].apply(clean_url)"
      ],
      "metadata": {
        "id": "4XiQ11EujYku",
        "cellView": "form"
      },
      "execution_count": null,
      "outputs": []
    },
    {
      "cell_type": "code",
      "source": [
        "# Run this cell to see the top 20 most tweeted URLs (change number in code to see more than 20)\n",
        "urls = df['original_url'].value_counts()\n",
        "print(urls[:20])"
      ],
      "metadata": {
        "id": "4QorDkf2jb2A"
      },
      "execution_count": null,
      "outputs": []
    },
    {
      "cell_type": "code",
      "source": [
        "# @title See list of URLs posted by user\n",
        "user = \"hwieduwilt\" # @param {\"type\":\"string\"}\n",
        "user_df = df[df['user_username'] == user]\n",
        "url_counts = user_df['original_url'].value_counts()\n",
        "print(url_counts)"
      ],
      "metadata": {
        "id": "z3SdvSmDjfOh"
      },
      "execution_count": null,
      "outputs": []
    },
    {
      "cell_type": "code",
      "source": [
        "# Most shared URLs in cluster BLUE\n",
        "\n",
        "df_blue = df[df['cluster'] == 'blue']\n",
        "url_countsb = df_blue['original_url'].value_counts()\n",
        "print(url_countsb[:20])"
      ],
      "metadata": {
        "id": "30eOPpxujiID"
      },
      "execution_count": null,
      "outputs": []
    },
    {
      "cell_type": "code",
      "source": [
        "# Most shared URLs in cluster PURPLE\n",
        "\n",
        "df_purple = df[df['cluster'] == 'purple']\n",
        "url_countsp = df_purple['original_url'].value_counts()\n",
        "print(url_countsp[:20])"
      ],
      "metadata": {
        "id": "suZdPcQsjjvt"
      },
      "execution_count": null,
      "outputs": []
    },
    {
      "cell_type": "code",
      "source": [
        "# Most shared URLs in cluster ORANGE\n",
        "\n",
        "df_orange = df[df['cluster'] == 'orange']\n",
        "url_countso = df_orange['original_url'].value_counts()\n",
        "print(url_countso[:20])"
      ],
      "metadata": {
        "id": "Vm_RaPMwjlPQ"
      },
      "execution_count": null,
      "outputs": []
    },
    {
      "cell_type": "code",
      "source": [
        "# Most shared URLs in cluster RED\n",
        "\n",
        "df_red = df[df['cluster'] == 'red']\n",
        "url_countsr = df_red['original_url'].value_counts()\n",
        "print(url_countsr[:20])"
      ],
      "metadata": {
        "id": "rRx-lgbkjm8_"
      },
      "execution_count": null,
      "outputs": []
    },
    {
      "cell_type": "code",
      "source": [
        "# Most shared URLs in cluster GREEN\n",
        "\n",
        "df_green = df[df['cluster'] == 'green']\n",
        "url_countsg = df_green['original_url'].value_counts()\n",
        "print(url_countsg[:20])"
      ],
      "metadata": {
        "id": "qnJM8CbCjo1p"
      },
      "execution_count": null,
      "outputs": []
    },
    {
      "cell_type": "markdown",
      "source": [
        "### Analysis of domains"
      ],
      "metadata": {
        "id": "zL37vxiTjrQw"
      }
    },
    {
      "cell_type": "code",
      "source": [
        "# Run this cell to see the top 20 most tweeted DOMAINS (change number in code to see more than 20)\n",
        "urls_dom = df['cleaned_url'].value_counts()\n",
        "print(urls_dom[:20])"
      ],
      "metadata": {
        "id": "w80tuwvvjq84"
      },
      "execution_count": null,
      "outputs": []
    },
    {
      "cell_type": "code",
      "source": [
        "# @title See list of DOMAINS posted by user\n",
        "user2 = \"hwieduwilt\" # @param {\"type\":\"string\"}\n",
        "user_df2 = df[df['user_username'] == user2]\n",
        "url_counts_dom = user_df2['cleaned_url'].value_counts()\n",
        "print(url_counts_dom)"
      ],
      "metadata": {
        "id": "vMCbd-vzju6n",
        "cellView": "form"
      },
      "execution_count": null,
      "outputs": []
    },
    {
      "cell_type": "code",
      "source": [
        "# Most shared DOMAINS in cluster BLUE\n",
        "\n",
        "url_countsbl = df_blue['cleaned_url'].value_counts()\n",
        "print(url_countsbl[:20])"
      ],
      "metadata": {
        "id": "9FNvdgIyjw3H"
      },
      "execution_count": null,
      "outputs": []
    },
    {
      "cell_type": "code",
      "source": [
        "# Most shared DOMAINS in cluster PURPLE\n",
        "\n",
        "url_countspu = df_purple['cleaned_url'].value_counts()\n",
        "print(url_countspu[:20])"
      ],
      "metadata": {
        "id": "_GCTpbgkjyU3"
      },
      "execution_count": null,
      "outputs": []
    },
    {
      "cell_type": "code",
      "source": [
        "# Most shared URLs in cluster ORANGE\n",
        "\n",
        "url_countsor = df_orange['cleaned_url'].value_counts()\n",
        "print(url_countsor[:20])"
      ],
      "metadata": {
        "id": "gT2QZ2FRjzuF"
      },
      "execution_count": null,
      "outputs": []
    },
    {
      "cell_type": "code",
      "source": [
        "# Most shared URLs in cluster RED\n",
        "\n",
        "url_countsre = df_red['cleaned_url'].value_counts()\n",
        "print(url_countsre[:20])"
      ],
      "metadata": {
        "id": "AZ-yVjY3j1gj"
      },
      "execution_count": null,
      "outputs": []
    },
    {
      "cell_type": "code",
      "source": [
        "# Most shared URLs in cluster GREEN\n",
        "\n",
        "url_countsgr = df_green['cleaned_url'].value_counts()\n",
        "print(url_countsgr[:20])"
      ],
      "metadata": {
        "id": "pFIWSp1Hj2vH"
      },
      "execution_count": null,
      "outputs": []
    },
    {
      "cell_type": "markdown",
      "source": [
        "# Data visualisation"
      ],
      "metadata": {
        "id": "9alZTsBGt4ut"
      }
    },
    {
      "cell_type": "code",
      "source": [
        "# @title See wordcloud with top 50 domains (including Twitter)\n",
        "# generate a wordcloud with values in column domain\n",
        "\n",
        "df['domain'] = df['cleaned_url'].str.replace('https://', '')\n",
        "df['domain'] = df['domain'].str.replace('www.', '')\n",
        "df['domain'] = df['domain'].str.replace('.com', '')\n",
        "df['domain'] = df['domain'].str.replace('http://', '')\n",
        "\n",
        "def remove_after_dot(domain):\n",
        "  if isinstance(domain, str):\n",
        "    parts = domain.split('.')\n",
        "    if len(parts) > 0:\n",
        "      return parts[0]\n",
        "  return domain\n",
        "\n",
        "df['domain'] = df['domain'].apply(remove_after_dot)\n",
        "counting = df['domain'].value_counts()\n",
        "\n",
        "df_wc = counting[:50]\n",
        "df_wc = df_wc.reset_index()\n",
        "\n",
        "text = \" \".join(df_wc['domain'].astype(str))\n",
        "wordcloud = WordCloud(width=800, height=400, background_color='white').generate(text)\n",
        "\n",
        "plt.figure(figsize=(10, 5))\n",
        "plt.imshow(wordcloud, interpolation='bilinear')\n",
        "plt.axis('off')\n",
        "plt.show()"
      ],
      "metadata": {
        "cellView": "form",
        "id": "OEi4ZHrR1IB1"
      },
      "execution_count": null,
      "outputs": []
    },
    {
      "cell_type": "code",
      "source": [
        "# @title See wordcloud with top 50 domains (without Twitter)\n",
        "# generate a wordcloud with values in column domain\n",
        "\n",
        "df['domain'] = df['cleaned_url'].str.replace('https://', '')\n",
        "df['domain'] = df['domain'].str.replace('www.', '')\n",
        "df['domain'] = df['domain'].str.replace('.com', '')\n",
        "df['domain'] = df['domain'].str.replace('http://', '')\n",
        "\n",
        "\n",
        "def remove_after_dot(domain):\n",
        "  if isinstance(domain, str):\n",
        "    parts = domain.split('.')\n",
        "    if len(parts) > 0:\n",
        "      return parts[0]\n",
        "  return domain\n",
        "\n",
        "df['domain'] = df['domain'].apply(remove_after_dot)\n",
        "counting = df['domain'].value_counts()\n",
        "\n",
        "df_wc = counting[:50]\n",
        "df_wc = df_wc.reset_index()\n",
        "df_wc = df_wc[df_wc['domain'] != 'twitter']\n",
        "\n",
        "text = \" \".join(df_wc['domain'].astype(str))\n",
        "wordcloud = WordCloud(width=800, height=400, background_color='white').generate(text)\n",
        "\n",
        "plt.figure(figsize=(10, 5))\n",
        "plt.imshow(wordcloud, interpolation='bilinear')\n",
        "plt.axis('off')\n",
        "plt.show()"
      ],
      "metadata": {
        "cellView": "form",
        "id": "JP4WxvHN1V6U"
      },
      "execution_count": null,
      "outputs": []
    },
    {
      "cell_type": "markdown",
      "source": [
        "# See specific websites linked in tweets\n",
        "(Eg. https://www.youtube.com or https://www.facebook.com or https://www.tichyseinblick.de)"
      ],
      "metadata": {
        "id": "A5wKtNjwjMAe"
      }
    },
    {
      "cell_type": "code",
      "source": [
        "# @title Run to see list of tweets mentioning website\n",
        "website = \"https://www.youtube.com\" # @param {\"type\":\"string\"}\n",
        "selected_rows = df[df['cleaned_url'].isin([website])]\n",
        "selected_rows"
      ],
      "metadata": {
        "cellView": "form",
        "id": "0s_2V3B0jl7S"
      },
      "execution_count": null,
      "outputs": []
    },
    {
      "cell_type": "code",
      "source": [
        "# See how many times the website chosen above is mentioned in corpus (Found in 'Index: XXXX entries')\n",
        "selected_rows.info()"
      ],
      "metadata": {
        "id": "NKiigfAcla-b"
      },
      "execution_count": null,
      "outputs": []
    },
    {
      "cell_type": "code",
      "source": [
        "# See how many times each cluster mentions website chosen above (PS: too see results for a different URL, run the website search again!)\n",
        "\n",
        "cluster_counts = selected_rows['cluster'].value_counts()\n",
        "print(cluster_counts)"
      ],
      "metadata": {
        "id": "0EHRJdzGrRgO"
      },
      "execution_count": null,
      "outputs": []
    },
    {
      "cell_type": "code",
      "source": [
        "# See the most mentioned links for specific website chosen above (PS: to see more websites, replace number '10' in code)\n",
        "url_counts2 = selected_rows['original_url'].value_counts()\n",
        "print(url_counts2[:10])"
      ],
      "metadata": {
        "id": "8FFtfPzcmiC8"
      },
      "execution_count": null,
      "outputs": []
    },
    {
      "cell_type": "code",
      "source": [
        "# Most mentioned URLs in cluster blue for specific website chosen above\n",
        "\n",
        "df_blue2 = selected_rows[selected_rows['cluster'] == 'blue']\n",
        "url_countsbl2 = df_blue2['original_url'].value_counts()\n",
        "print(url_countsbl2[:20])"
      ],
      "metadata": {
        "id": "8k5ldL8gmzYx"
      },
      "execution_count": null,
      "outputs": []
    },
    {
      "cell_type": "code",
      "source": [
        "# Most mentioned URLs in cluster purple for specific website chosen above\n",
        "\n",
        "df_purple2 = selected_rows[selected_rows['cluster'] == 'purple']\n",
        "url_countspu2 = df_purple2['original_url'].value_counts()\n",
        "print(url_countspu2[:20])"
      ],
      "metadata": {
        "id": "PGg8CXDDn3m0"
      },
      "execution_count": null,
      "outputs": []
    },
    {
      "cell_type": "code",
      "source": [
        "# Most mentioned URLs in cluster red for specific website chosen above\n",
        "\n",
        "df_red2 = selected_rows[selected_rows['cluster'] == 'red']\n",
        "url_countsre2 = df_red2['original_url'].value_counts()\n",
        "print(url_countsre2[:20])"
      ],
      "metadata": {
        "id": "evqmPiAhoQ62"
      },
      "execution_count": null,
      "outputs": []
    },
    {
      "cell_type": "code",
      "source": [
        "# Most mentioned URLs in cluster orange for specific website chosen above\n",
        "\n",
        "df_orange2 = selected_rows[selected_rows['cluster'] == 'orange']\n",
        "url_countsor2 = df_orange2['original_url'].value_counts()\n",
        "print(url_countsor2[:20])"
      ],
      "metadata": {
        "id": "NxlacNevprZu"
      },
      "execution_count": null,
      "outputs": []
    },
    {
      "cell_type": "code",
      "source": [
        "# @title Run to see list of n-grams (for texts in tweets mentioning the URL chosen above) - Entire dataset\n",
        "\n",
        "\n",
        "df_NetzClean = selected_rows.copy()\n",
        "\n",
        "# Remove underscore from tweets (To avoid erros in deleting users like @balzer_sascha)\n",
        "\n",
        "def cleaner(text):\n",
        "    text = re.sub(r\"_\", \"\", text) # Remove underscore\n",
        "    return text\n",
        "\n",
        "df_NetzClean['text_clean'] = df_NetzClean['text'].map(lambda x: cleaner(x))\n",
        "\n",
        "# Remove users, remove URLs, remove hashtag sign\n",
        "\n",
        "def cleaner(text):\n",
        "    text = re.sub(\"@[A-Za-z0-9]+\",\"\",text) # Remove @ sign\n",
        "    text = re.sub(r\"(?:\\@|http?\\://|https?\\://|www)\\S+\", \"\", text) # Remove http links\n",
        "    text = \" \".join(text.split())\n",
        "    text = text.replace(\"#\", \"\") # Remove hashtag sign but keep the text\n",
        "    return text\n",
        "\n",
        "df_NetzClean['text_clean'] = df_NetzClean['text'].map(lambda x: cleaner(x))\n",
        "df_NetzClean = df_NetzClean.drop_duplicates(subset=['text']) #remove duplicated tweets in column 'text'\n",
        "\n",
        "ngrams = 3 # @param {type:\"raw\"}\n",
        "\n",
        "def get_top_n_words(corpus, stopwords, n=20):\n",
        "    vec = CountVectorizer(stop_words = stopwords).fit(corpus)\n",
        "    bag_of_words = vec.transform(corpus)\n",
        "    sum_words = bag_of_words.sum(axis=0)\n",
        "    words_freq = [(word, sum_words[0, idx]) for word, idx in vec.vocabulary_.items()]\n",
        "    words_freq =sorted(words_freq, key = lambda x: x[1], reverse=True)\n",
        "    return words_freq[:n]\n",
        "\n",
        "def get_top_n_bigram(corpus, stopwords, n=20):\n",
        "    vec = CountVectorizer(ngram_range=(ngrams, ngrams), stop_words = stopwords).fit(corpus)\n",
        "    bag_of_words = vec.transform(corpus)\n",
        "    sum_words = bag_of_words.sum(axis=0)\n",
        "    words_freq = [(word, sum_words[0, idx]) for word, idx in vec.vocabulary_.items()]\n",
        "    words_freq =sorted(words_freq, key = lambda x: x[1], reverse=True)\n",
        "    return words_freq[:n]\n",
        "\n",
        "def get_top_n_words_tfidf(corpus, stopwords, n=20):\n",
        "    vec = TfidfVectorizer(stop_words = stopwords).fit(corpus)\n",
        "    bag_of_words = vec.transform(corpus)\n",
        "    sum_words = bag_of_words.sum(axis=0)\n",
        "    words_freq = [(word, sum_words[0, idx]) for word, idx in vec.vocabulary_.items()]\n",
        "    words_freq =sorted(words_freq, key = lambda x: x[1], reverse=True)\n",
        "    return words_freq[:n]\n",
        "\n",
        "def get_top_n_bigram_tfidf(corpus, stopwords, n=20):\n",
        "    vec = TfidfVectorizer(ngram_range=(2, 2), stop_words = stopwords).fit(corpus)\n",
        "    bag_of_words = vec.transform(corpus)\n",
        "    sum_words = bag_of_words.sum(axis=0)\n",
        "    words_freq = [(word, sum_words[0, idx]) for word, idx in vec.vocabulary_.items()]\n",
        "    words_freq =sorted(words_freq, key = lambda x: x[1], reverse=True)\n",
        "    return words_freq[:n]\n",
        "\n",
        "# Transform stopwords in a list\n",
        "\n",
        "stopwords_de = list(de_stopwords)\n",
        "stopwords_en = list(en_stopwords)\n",
        "\n",
        "stopwords = stopwords_de + stopwords_en #create a mixed list of stopwords (German and English)\n",
        "\n",
        "# Edit your list of stopwords manually\n",
        "\n",
        "add_to_stopwords = ['rt']\n",
        "stopwords = stopwords + add_to_stopwords\n",
        "\n",
        "content = df_NetzClean[['text_clean']]\n",
        "content.reset_index(drop=True, inplace=True)\n",
        "content = content.values.tolist()\n",
        "\n",
        "string = '\\n'.join(str(e) for e in content)\n",
        "\n",
        "items_in_list = 10 # @param {type:\"number\"}\n",
        "\n",
        "unigrams = get_top_n_words([string], stopwords=stopwords, n=items_in_list)\n",
        "bigrams = get_top_n_bigram([string], stopwords=stopwords, n=items_in_list)\n",
        "see_top_words = bigrams\n",
        "\n",
        "see_top_words\n"
      ],
      "metadata": {
        "cellView": "form",
        "id": "MJ_HdEqfp_gU"
      },
      "execution_count": null,
      "outputs": []
    },
    {
      "cell_type": "code",
      "source": [],
      "metadata": {
        "id": "FnuGPK23tVhZ"
      },
      "execution_count": null,
      "outputs": []
    }
  ]
}