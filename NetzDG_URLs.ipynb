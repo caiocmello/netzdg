{
  "nbformat": 4,
  "nbformat_minor": 0,
  "metadata": {
    "colab": {
      "provenance": [],
      "include_colab_link": true
    },
    "kernelspec": {
      "name": "python3",
      "display_name": "Python 3"
    },
    "language_info": {
      "name": "python"
    }
  },
  "cells": [
    {
      "cell_type": "markdown",
      "metadata": {
        "id": "view-in-github",
        "colab_type": "text"
      },
      "source": [
        "<a href=\"https://colab.research.google.com/github/caiocmello/netzdg/blob/main/NetzDG_URLs.ipynb\" target=\"_parent\"><img src=\"https://colab.research.google.com/assets/colab-badge.svg\" alt=\"Open In Colab\"/></a>"
      ]
    },
    {
      "cell_type": "code",
      "execution_count": null,
      "metadata": {
        "id": "8wF1VhEbuFqM",
        "cellView": "form"
      },
      "outputs": [],
      "source": [
        "# @title Run to install packages (use csv file 'df_urls.csv')\n",
        "import pandas as pd\n",
        "df = pd.read_csv('df_urls.csv')\n",
        "pd.set_option('display.max_rows', None)  # Show all rows\n",
        "pd.set_option('display.max_columns', None)  # Show all columns\n",
        "\n",
        "def clean_url(url):\n",
        "  parts = url.split('/')\n",
        "  if len(parts) >= 4:\n",
        "    return '/'.join(parts[:3])\n",
        "  else:\n",
        "    return url\n",
        "\n",
        "df['cleaned_url'] = df['original_url'].apply(clean_url)\n"
      ]
    },
    {
      "cell_type": "code",
      "source": [
        "# Run this cell to see the top 20 most tweeted URLs (change number in code to see more than 20)\n",
        "urls = df['original_url'].value_counts()\n",
        "print(urls[:20])"
      ],
      "metadata": {
        "id": "tu6P371vxvQO"
      },
      "execution_count": null,
      "outputs": []
    },
    {
      "cell_type": "code",
      "source": [
        "# @title See list of URLs posted by user\n",
        "user = \"hwieduwilt\" # @param {\"type\":\"string\"}\n",
        "user_df = df[df['user_username'] == user]\n",
        "url_counts = user_df['original_url'].value_counts()\n",
        "print(url_counts)"
      ],
      "metadata": {
        "id": "8SdwGJoJvOJo"
      },
      "execution_count": null,
      "outputs": []
    },
    {
      "cell_type": "code",
      "source": [
        "# Most shared URLs in cluster BLUE\n",
        "\n",
        "df_blue = df[df['cluster'] == 'blue']\n",
        "url_countsb = df_blue['original_url'].value_counts()\n",
        "print(url_countsb[:20])\n"
      ],
      "metadata": {
        "id": "D-02SL7DzvIs"
      },
      "execution_count": null,
      "outputs": []
    },
    {
      "cell_type": "code",
      "source": [
        "# Most shared URLs in cluster PURPLE\n",
        "\n",
        "df_purple = df[df['cluster'] == 'purple']\n",
        "url_countsp = df_purple['original_url'].value_counts()\n",
        "print(url_countsp[:20])"
      ],
      "metadata": {
        "id": "mvsqBZmyz27b"
      },
      "execution_count": null,
      "outputs": []
    },
    {
      "cell_type": "code",
      "source": [
        "# Most shared URLs in cluster ORANGE\n",
        "\n",
        "df_orange = df[df['cluster'] == 'orange']\n",
        "url_countso = df_orange['original_url'].value_counts()\n",
        "print(url_countso[:20])"
      ],
      "metadata": {
        "id": "oo1TJpud1Crt"
      },
      "execution_count": null,
      "outputs": []
    },
    {
      "cell_type": "code",
      "source": [
        "# Most shared URLs in cluster RED\n",
        "\n",
        "df_red = df[df['cluster'] == 'red']\n",
        "url_countsr = df_red['original_url'].value_counts()\n",
        "print(url_countsr[:20])"
      ],
      "metadata": {
        "id": "3crqYxDD3kES"
      },
      "execution_count": null,
      "outputs": []
    },
    {
      "cell_type": "code",
      "source": [
        "# Most shared URLs in cluster GREEN\n",
        "\n",
        "df_green = df[df['cluster'] == 'green']\n",
        "url_countsg = df_green['original_url'].value_counts()\n",
        "print(url_countsg[:20])"
      ],
      "metadata": {
        "id": "TotQJrge3uwP"
      },
      "execution_count": null,
      "outputs": []
    },
    {
      "cell_type": "markdown",
      "source": [
        "### Analysis of domains"
      ],
      "metadata": {
        "id": "Xp6u4XAA5Vhh"
      }
    },
    {
      "cell_type": "code",
      "source": [
        "# Run this cell to see the top 20 most tweeted DOMAINS (change number in code to see more than 20)\n",
        "urls_dom = df['cleaned_url'].value_counts()\n",
        "print(urls_dom[:20])"
      ],
      "metadata": {
        "id": "qKLnKJya4GGN"
      },
      "execution_count": null,
      "outputs": []
    },
    {
      "cell_type": "code",
      "source": [
        "# @title See list of DOMAINS posted by user\n",
        "user2 = \"hwieduwilt\" # @param {\"type\":\"string\"}\n",
        "user_df2 = df[df['user_username'] == user2]\n",
        "url_counts_dom = user_df2['cleaned_url'].value_counts()\n",
        "print(url_counts_dom)"
      ],
      "metadata": {
        "id": "YlWoAxLY5wVP"
      },
      "execution_count": null,
      "outputs": []
    },
    {
      "cell_type": "code",
      "source": [
        "# Most shared DOMAINS in cluster BLUE\n",
        "\n",
        "url_countsbl = df_blue['cleaned_url'].value_counts()\n",
        "print(url_countsbl[:20])"
      ],
      "metadata": {
        "id": "wEEGjTtR6KzU"
      },
      "execution_count": null,
      "outputs": []
    },
    {
      "cell_type": "code",
      "source": [
        "# Most shared DOMAINS in cluster PURPLE\n",
        "\n",
        "url_countspu = df_purple['cleaned_url'].value_counts()\n",
        "print(url_countspu[:20])"
      ],
      "metadata": {
        "id": "_SakCAKk6oJa"
      },
      "execution_count": null,
      "outputs": []
    },
    {
      "cell_type": "code",
      "source": [
        "# Most shared URLs in cluster ORANGE\n",
        "\n",
        "url_countsor = df_orange['cleaned_url'].value_counts()\n",
        "print(url_countsor[:20])"
      ],
      "metadata": {
        "id": "-giOr_Uz6zEk"
      },
      "execution_count": null,
      "outputs": []
    },
    {
      "cell_type": "code",
      "source": [
        "# Most shared URLs in cluster RED\n",
        "\n",
        "url_countsre = df_red['cleaned_url'].value_counts()\n",
        "print(url_countsre[:20])"
      ],
      "metadata": {
        "id": "VSx1bkhK65iM"
      },
      "execution_count": null,
      "outputs": []
    },
    {
      "cell_type": "code",
      "source": [
        "# Most shared URLs in cluster GREEN\n",
        "\n",
        "url_countsgr = df_green['cleaned_url'].value_counts()\n",
        "print(url_countsgr[:20])"
      ],
      "metadata": {
        "id": "Gigadpm_67rO"
      },
      "execution_count": null,
      "outputs": []
    },
    {
      "cell_type": "code",
      "source": [
        "# show only rows where value in column 'cleaned url' is https://www.tichyseinblick.de or https://philosophia-perennis.com\n",
        "\n",
        "selected_rows = df[df['cleaned_url'].isin(['https://www.tichyseinblick.de', 'https://philosophia-perennis.com'])]\n",
        "selected_rows\n"
      ],
      "metadata": {
        "id": "69MDD7BR-rSN"
      },
      "execution_count": null,
      "outputs": []
    },
    {
      "cell_type": "code",
      "source": [
        "selected_rows.info()"
      ],
      "metadata": {
        "id": "HQgIMEK6IycR"
      },
      "execution_count": null,
      "outputs": []
    },
    {
      "cell_type": "code",
      "source": [
        "# count values in column cluster\n",
        "\n",
        "cluster_counts = selected_rows['cluster'].value_counts()\n",
        "print(cluster_counts)\n"
      ],
      "metadata": {
        "id": "5dDHafLeGwg6"
      },
      "execution_count": null,
      "outputs": []
    },
    {
      "cell_type": "code",
      "source": [],
      "metadata": {
        "id": "8FyE2q_1G7vG"
      },
      "execution_count": null,
      "outputs": []
    }
  ]
}