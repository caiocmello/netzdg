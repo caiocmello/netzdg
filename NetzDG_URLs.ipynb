{
  "cells": [
    {
      "cell_type": "markdown",
      "metadata": {
        "colab_type": "text",
        "id": "view-in-github"
      },
      "source": [
        "<a href=\"https://colab.research.google.com/github/caiocmello/netzdg/blob/main/NetzDG_URLs.ipynb\" target=\"_parent\"><img src=\"https://colab.research.google.com/assets/colab-badge.svg\" alt=\"Open In Colab\"/></a>"
      ]
    },
    {
      "cell_type": "code",
      "execution_count": 1,
      "metadata": {
        "cellView": "form",
        "id": "8wF1VhEbuFqM"
      },
      "outputs": [],
      "source": [
        "# @title Run to install packages (use csv file 'df_urls.csv')\n",
        "import pandas as pd\n",
        "df = pd.read_csv('/Users/caio.mello/Documents/NetzDG_project/NetzDG_data/URL_analysis/final_dataframe_urls.csv')\n"
      ]
    },
    {
      "cell_type": "code",
      "execution_count": 2,
      "metadata": {},
      "outputs": [],
      "source": [
        "df['original_url'] = df['original_url'].astype(str)\n"
      ]
    },
    {
      "cell_type": "code",
      "execution_count": 3,
      "metadata": {},
      "outputs": [],
      "source": [
        "#pd.set_option('display.max_rows', None)  # Show all rows\n",
        "#pd.set_option('display.max_columns', None)  # Show all columns\n",
        "\n",
        "def clean_url(url):\n",
        "  parts = url.split('/')\n",
        "  if len(parts) >= 4:\n",
        "    return '/'.join(parts[:3])\n",
        "  else:\n",
        "    return url\n",
        "\n",
        "df['cleaned_url'] = df['original_url'].apply(clean_url)"
      ]
    },
    {
      "cell_type": "code",
      "execution_count": 4,
      "metadata": {},
      "outputs": [
        {
          "data": {
            "text/plain": [
              "original_url\n",
              "https://philosophia-perennis.com/2018/01/01/storch-twitter/                                                             1007\n",
              "https://www.der-postillon.com/2017/05/netzwerkdurchsetzungsgesetz.html                                                   898\n",
              "https://www.tichyseinblick.de/meinungen/netzdg-maas-netzwerkdurchsetzungsgesetz/                                         847\n",
              "https://www.gutjahr.biz/2018/01/hatespeech/                                                                              660\n",
              "https://twitter.com/Anwalt_Jun/status/1588652399610449921/photo/1                                                        636\n",
              "                                                                                                                        ... \n",
              "https://twitter.com/phoyager/status/870722623034060801/photo/1                                                             1\n",
              "https://twitter.com/nhaerting/status/870524671371825153                                                                    1\n",
              "https://twitter.com/IsidorMeyer1/status/870736962671529984/photo/1                                                         1\n",
              "https://twitter.com/AlternativeNRW/status/869625269417627648                                                               1\n",
              "https://kurier.at/politik/ausland/ex-frau-von-spd-politiker-lauterbach-hoffentlich-wird-er-nicht-minister/33.547.492       1\n",
              "Name: count, Length: 26896, dtype: int64"
            ]
          },
          "execution_count": 4,
          "metadata": {},
          "output_type": "execute_result"
        }
      ],
      "source": [
        "df['original_url'].value_counts()"
      ]
    },
    {
      "cell_type": "code",
      "execution_count": 7,
      "metadata": {
        "id": "tu6P371vxvQO"
      },
      "outputs": [
        {
          "data": {
            "text/plain": [
              "original_url\n",
              "https://philosophia-perennis.com/2018/01/01/storch-twitter/                         1007\n",
              "https://www.der-postillon.com/2017/05/netzwerkdurchsetzungsgesetz.html               898\n",
              "https://www.tichyseinblick.de/meinungen/netzdg-maas-netzwerkdurchsetzungsgesetz/     847\n",
              "https://www.gutjahr.biz/2018/01/hatespeech/                                          660\n",
              "https://twitter.com/Anwalt_Jun/status/1588652399610449921/photo/1                    636\n",
              "                                                                                    ... \n",
              "https://www.ohchr.org/EN/Issues/FreedomOpinion/Pages/LegislationAndPolicy.aspx       212\n",
              "https://twitter.com/AfDBerlin/status/908255040221143040/photo/1                      211\n",
              "https://twitter.com/AlternativeNRW/status/963752303613399042/photo/1                 211\n",
              "https://twitter.com/heiseonline/status/1015520084616507393                           211\n",
              "https://twitter.com/RegSprecher/status/964495449624375296                            210\n",
              "Name: count, Length: 100, dtype: int64"
            ]
          },
          "execution_count": 7,
          "metadata": {},
          "output_type": "execute_result"
        }
      ],
      "source": [
        "# Run this cell to see the top 20 most tweeted URLs (change number in code to see more than 20)\n",
        "urls = df['original_url'].value_counts()\n",
        "urls[:100]\n",
        "#print(urls[:20])"
      ]
    },
    {
      "cell_type": "code",
      "execution_count": 276,
      "metadata": {
        "id": "8SdwGJoJvOJo"
      },
      "outputs": [
        {
          "name": "stdout",
          "output_type": "stream",
          "text": [
            "original_url\n",
            "https://twitter.com/gutjahr/status/951442637206310912                                                                 2\n",
            "https://blogs.faz.net/wort/2018/01/08/das-ueberschaetzte-recht-514/                                                   2\n",
            "https://www.faz.net/aktuell/gesellschaft/kriminalitaet/wie-der-taeter-aus-halle-sich-selbst-wahrnahm-16430400.html    2\n",
            "https://twitter.com/ReporterOG/status/948862436685135872                                                              1\n",
            "https://twitter.com/alicologne/status/942004102317400064                                                              1\n",
            "                                                                                                                     ..\n",
            "https://twitter.com/PolizeiNI_lka/status/1410939984769654784                                                          1\n",
            "https://www.europarl.europa.eu/doceo/document/E-9-2021-001683-ASW_EN.html                                             1\n",
            "https://table.media/europe/analyse/digital-services-act-gleiche-fehler-wie-netzdg/                                    1\n",
            "https://twitter.com/torbatschow/status/1457650283429892097                                                            1\n",
            "https://www.arag.com/de/presse/pressemitteilungen/group/00448/                                                        1\n",
            "Name: count, Length: 245, dtype: int64\n"
          ]
        }
      ],
      "source": [
        "# @title See list of URLs posted by user\n",
        "user = \"hwieduwilt\" # @param {\"type\":\"string\"}\n",
        "user_df = df[df['user_username'] == user]\n",
        "url_counts = user_df['original_url'].value_counts()\n",
        "print(url_counts)"
      ]
    },
    {
      "cell_type": "code",
      "execution_count": 279,
      "metadata": {
        "id": "D-02SL7DzvIs"
      },
      "outputs": [
        {
          "name": "stdout",
          "output_type": "stream",
          "text": [
            "original_url\n",
            "https://www.gutjahr.biz/2018/01/hatespeech/                                                                                             583\n",
            "https://twitter.com/marteimer/status/954143230567813121/photo/1                                                                         506\n",
            "https://www.der-postillon.com/2017/05/netzwerkdurchsetzungsgesetz.html                                                                  481\n",
            "https://www.reporter-ohne-grenzen.de/presse/pressemitteilungen/meldung/russland-kopiert-gesetz-gegen-hassbotschaften/                   302\n",
            "https://bit.ly/2lZbRPJ                                                                                                                  298\n",
            "https://twitter.com/tagesschau/status/948584747114131457/photo/1                                                                        197\n",
            "https://www.heise.de/tp/features/Justizamt-entwertet-Zustellungsvorschrift-im-NetzDG-4171820.html                                       196\n",
            "https://twitter.com/hwieduwilt/status/849891592412557312/photo/1                                                                        189\n",
            "https://www.heise.de/ct/ausgabe/2018-3-Heftige-Kritik-am-neuen-NetzDG-3942261.html                                                      177\n",
            "https://twitter.com/HeikoMaas/status/1125035257508573189                                                                                174\n",
            "https://deklaration-fuer-meinungsfreiheit.de/                                                                                           169\n",
            "https://www.piratenpartei.de/2017/06/30/das-gesetz-zur-privatisierung-von-zensur-muss-weg/                                              163\n",
            "https://netzpolitik.org/2017/analyse-so-gefaehrlich-ist-das-neue-hate-speech-gesetz-fuer-die-meinungsfreiheit/                          147\n",
            "https://www.heise.de/newsticker/meldung/Kampf-gegen-Hass-Bundesregierung-stimmt-fuer-Pflicht-zur-Passwortherausgabe-4663947.html        144\n",
            "https://www.piratenpartei.de/2017/05/19/netzwerkdurchsetzungsgesetz-zensur-ja-interesse-an-diskussion-nein/                             140\n",
            "https://twitter.com/fpiatov/status/885411153425387521                                                                                   140\n",
            "https://twitter.com/AnjaHirschel/status/851768414356025344/photo/1                                                                      139\n",
            "https://www.djv.de/startseite/profil/der-djv/pressebereich-download/pressemitteilungen/detail/article/loeschungen-dokumentieren.html    137\n",
            "https://www.spiegel.de/netzwelt/web/netzdg-berechtigtes-getoese-um-ein-daemliches-gesetz-a-1185973.html                                 136\n",
            "https://www.tichyseinblick.de/meinungen/netzdg-maas-netzwerkdurchsetzungsgesetz/                                                        135\n",
            "Name: count, dtype: int64\n"
          ]
        }
      ],
      "source": [
        "# Most shared URLs in cluster BLUE\n",
        "\n",
        "df_blue = df[df['modularity_class'] == 'blue']\n",
        "url_countsb = df_blue['original_url'].value_counts()\n",
        "print(url_countsb[:20])\n"
      ]
    },
    {
      "cell_type": "code",
      "execution_count": 280,
      "metadata": {
        "id": "mvsqBZmyz27b"
      },
      "outputs": [
        {
          "name": "stdout",
          "output_type": "stream",
          "text": [
            "original_url\n",
            "https://philosophia-perennis.com/2018/01/01/storch-twitter/                                                                                                868\n",
            "https://www.tichyseinblick.de/meinungen/netzdg-maas-netzwerkdurchsetzungsgesetz/                                                                           595\n",
            "https://www.tichyseinblick.de/kolumnen/alexander-wallasch-heute/verschaerfung-des-netzdg-bundesregierung-versus-bevoelkerung/                              426\n",
            "https://www.europa-konzept.eu/geben-sie-gedankenfreiheit-schiller/netzwerkdurchsetzungsgesetz-l%C3%B6schen-ist-kein-argument/                              420\n",
            "https://www.europa-konzept.eu/geben-sie-gedankenfreiheit-schiller/netzwerkdurchsetzungsgesetz-löschen-ist-kein-argument/                                   358\n",
            "https://facebook-sperre.steinhoefel.de/illegal-content-2868/                                                                                               341\n",
            "https://www.der-postillon.com/2017/05/netzwerkdurchsetzungsgesetz.html                                                                                     304\n",
            "https://archive.is/yAspL                                                                                                                                   302\n",
            "https://twitter.com/Frank_Pasemann/status/947957940031574017/photo/1                                                                                       290\n",
            "https://www.tichyseinblick.de/daili-es-sentials/netzdg-gestern-sagte-die-union-stop-heute-go/                                                              280\n",
            "https://twitter.com/Steinhoefel/status/949941808708161536/photo/1                                                                                          273\n",
            "https://www.bild.de/politik/inland/heiko-maas/netzwerkdurchsetzungsgesetz-tweet-justizminister-geloescht-54402846.bild.html                                272\n",
            "https://www.bild.de/politik/kolumnen/kolumne/kommentar-zum-loesch-gesetz-netzdg-gefaehrliches-werkzeug-57264756.bild.html                                  268\n",
            "https://www.facebook.com/Prof.Dr.Joerg.Meuthen/photos/a.554885501326826.1073741828.554345401380836/954245914724114/?type=3&theater                         267\n",
            "https://www.handelsblatt.com/politik/international/hasskommentare-und-falschmeldungen-osze-kritisiert-deutsches-gesetz-gegen-hass-im-netz/20413082.html    263\n",
            "https://twitter.com/JoanaCotar/status/1207925077922242560                                                                                                  257\n",
            "https://twitter.com/DPolGHH/status/949758764781105154/photo/1                                                                                              257\n",
            "https://www.tichyseinblick.de/daili-es-sentials/netzdg-twitter-klick-klick-klick-deinen-rechtsstaat-weg/                                                   255\n",
            "https://twitter.com/Beatrix_vStorch/status/876408579489746944/photo/1                                                                                      248\n",
            "https://blogs.faz.net/deus/2017/12/18/erdogans-mob-und-gruene-denunzianten-wem-das-spd-netzdg-nuetzt-4778/                                                 248\n",
            "Name: count, dtype: int64\n"
          ]
        }
      ],
      "source": [
        "# Most shared URLs in cluster PURPLE\n",
        "\n",
        "df_purple = df[df['modularity_class'] == 'purple']\n",
        "url_countsp = df_purple['original_url'].value_counts()\n",
        "print(url_countsp[:20])"
      ]
    },
    {
      "cell_type": "code",
      "execution_count": 281,
      "metadata": {
        "id": "oo1TJpud1Crt"
      },
      "outputs": [
        {
          "name": "stdout",
          "output_type": "stream",
          "text": [
            "original_url\n",
            "https://twitter.com/c_lindner/status/939441435006373889/photo/1                                                      157\n",
            "https://twitter.com/HeikoMaas/status/1125035257508573189                                                             144\n",
            "https://twitter.com/larsklingbeil/status/1125037778994192385                                                         140\n",
            "https://twitter.com/handelsblatt/status/880737503577329664/photo/1                                                   138\n",
            "https://twitter.com/_donalphonso/status/1125039703621816320/photo/1                                                  128\n",
            "https://twitter.com/nicolabeerfdp/status/914438676276490240/photo/1                                                  117\n",
            "https://twitter.com/_donalphonso/status/1184506773971132416/photo/1                                                  109\n",
            "https://blogs.faz.net/deus/2017/12/18/erdogans-mob-und-gruene-denunzianten-wem-das-spd-netzdg-nuetzt-4778/           108\n",
            "https://twitter.com/AnkeJulieMartin/status/1201795758611144704                                                       108\n",
            "https://www.der-postillon.com/2017/05/netzwerkdurchsetzungsgesetz.html                                                93\n",
            "https://www.tichyseinblick.de/meinungen/netzdg-maas-netzwerkdurchsetzungsgesetz/                                      91\n",
            "https://twitter.com/tagesschau/status/948584747114131457/photo/1                                                      86\n",
            "https://twitter.com/beckonlinede/status/868207445885284353                                                            82\n",
            "https://twitter.com/NDRinfo/status/948820035543425024                                                                 82\n",
            "https://blogs.faz.net/deus/2017/12/22/linke-und-das-wirkungslose-netzdg-mobbing-doxing-polizisten-verfolgen-4784/     72\n",
            "https://twitter.com/drumheadberlin/status/1412090982846320644                                                         72\n",
            "https://www.tichyseinblick.de/meinungen/fdp-beantragt-aufhebung-des-netzdg/                                           70\n",
            "https://twitter.com/Arnd_Diringer/status/1129741372771246081/photo/1                                                  66\n",
            "https://loeffel-abrar.com/newsblog/twittersperrt-prozessuales-vorgehen-gegen-account-sperren/                         64\n",
            "https://netzpolitik.org/2019/bundesrat-bringt-darknet-gesetz-auf-den-weg/                                             62\n",
            "Name: count, dtype: int64\n"
          ]
        }
      ],
      "source": [
        "# Most shared URLs in cluster ORANGE\n",
        "\n",
        "df_orange = df[df['modularity_class'] == 'orange']\n",
        "url_countso = df_orange['original_url'].value_counts()\n",
        "print(url_countso[:20])"
      ]
    },
    {
      "cell_type": "code",
      "execution_count": 282,
      "metadata": {
        "id": "3crqYxDD3kES"
      },
      "outputs": [
        {
          "name": "stdout",
          "output_type": "stream",
          "text": [
            "original_url\n",
            "https://twitter.com/Anwalt_Jun/status/1588652399610449921/photo/1                                              550\n",
            "https://twitter.com/cLayzcrypto/status/1136349889217126400/photo/1                                             269\n",
            "https://twitter.com/hassmelden/status/1468223126353985541/photo/1                                              258\n",
            "https://twitter.com/Anwalt_Jun/status/1345701730856669190/photo/1                                              203\n",
            "https://twitter.com/hassmelden/status/1469685797611843591/photo/1                                              156\n",
            "https://twitter.com/sarafischer/status/1590830921414225921                                                     119\n",
            "https://twitter.com/bastelbro1/status/1571923066049142785                                                       70\n",
            "https://taz.de/Justizministerin-Lambrecht-ueber-NetzDG/!5689014/                                                50\n",
            "https://www.bundesjustizamt.de/DE/Themen/Buergerdienste/NetzDG/Fragen/FAQ_node.html#faq10018924                 47\n",
            "https://twitter.com/Karl_Lauterbach/status/1398246607330631683                                                  45\n",
            "https://www.bundesjustizamt.de/DE/Themen/Buergerdienste/NetzDG/Service/Formulare/Meldung/Formular_node.html     40\n",
            "https://twitter.com/Anwalt_Jun/status/1578277686036033537/photo/1                                               40\n",
            "https://twitter.com/BMJV_Bund/status/1409383074589200387/video/1                                                37\n",
            "https://hass.report/10                                                                                          34\n",
            "https://netzpolitik.org/2021/hasskriminalitaet-faellt-telegram-wirklich-nicht-unter-das-netzdg/                 34\n",
            "https://twitter.com/BMJV_Bund/status/1448216758570164226/video/1                                                30\n",
            "https://spon.de/afCl1                                                                                           30\n",
            "https://twitter.com/ReconquistaNetz/status/1048199878612905985                                                  27\n",
            "https://twitter.com/Anwalt_Jun/status/1533083219398209536/photo/1                                               27\n",
            "https://twitter.com/HamillHimself/status/1501666590613377026/photo/1                                            25\n",
            "Name: count, dtype: int64\n"
          ]
        }
      ],
      "source": [
        "# Most shared URLs in cluster RED\n",
        "\n",
        "df_red = df[df['modularity_class'] == 'red']\n",
        "url_countsr = df_red['original_url'].value_counts()\n",
        "print(url_countsr[:20])"
      ]
    },
    {
      "cell_type": "markdown",
      "metadata": {
        "id": "Xp6u4XAA5Vhh"
      },
      "source": [
        "### Analysis of domains"
      ]
    },
    {
      "cell_type": "code",
      "execution_count": 284,
      "metadata": {
        "id": "qKLnKJya4GGN"
      },
      "outputs": [
        {
          "name": "stdout",
          "output_type": "stream",
          "text": [
            "cleaned_url\n",
            "https://twitter.com                     90133\n",
            "https://www.tichyseinblick.de            8074\n",
            "https://www.heise.de                     6647\n",
            "https://philosophia-perennis.com         5042\n",
            "https://www.facebook.com                 4593\n",
            "https://netzpolitik.org                  3551\n",
            "https://www.welt.de                      3001\n",
            "https://bit.ly                           2630\n",
            "https://www.bild.de                      2299\n",
            "https://www.handelsblatt.com             1961\n",
            "https://www.faz.net                      1856\n",
            "https://jungefreiheit.de                 1713\n",
            "https://www.spiegel.de                   1580\n",
            "https://fb.me                            1465\n",
            "https://blogs.faz.net                    1360\n",
            "https://www.youtube.com                  1332\n",
            "https://youtu.be                         1326\n",
            "https://www.steinhoefel.com              1298\n",
            "https://www.piratenpartei.de             1235\n",
            "https://www.reporter-ohne-grenzen.de     1178\n",
            "Name: count, dtype: int64\n"
          ]
        }
      ],
      "source": [
        "# Run this cell to see the top 20 most tweeted DOMAINS (change number in code to see more than 20)\n",
        "urls_dom = df['cleaned_url'].value_counts()\n",
        "print(urls_dom[:20])"
      ]
    },
    {
      "cell_type": "code",
      "execution_count": 285,
      "metadata": {
        "id": "YlWoAxLY5wVP"
      },
      "outputs": [
        {
          "name": "stdout",
          "output_type": "stream",
          "text": [
            "cleaned_url\n",
            "https://twitter.com           145\n",
            "https://www.faz.net             9\n",
            "https://plus.faz.net            6\n",
            "https://blogs.faz.net           4\n",
            "https://www.bitkom.org          4\n",
            "                             ... \n",
            "https://www.haerting.de         1\n",
            "https://www.neuerichter.de      1\n",
            "https://www.ohchr.org           1\n",
            "https://ec.europa.eu            1\n",
            "https://www.arag.com            1\n",
            "Name: count, Length: 63, dtype: int64\n"
          ]
        }
      ],
      "source": [
        "# @title See list of DOMAINS posted by user\n",
        "user2 = \"hwieduwilt\" # @param {\"type\":\"string\"}\n",
        "user_df2 = df[df['user_username'] == user2]\n",
        "url_counts_dom = user_df2['cleaned_url'].value_counts()\n",
        "print(url_counts_dom)"
      ]
    },
    {
      "cell_type": "code",
      "execution_count": 286,
      "metadata": {
        "id": "wEEGjTtR6KzU"
      },
      "outputs": [
        {
          "name": "stdout",
          "output_type": "stream",
          "text": [
            "cleaned_url\n",
            "https://twitter.com                     22819\n",
            "https://www.heise.de                     3495\n",
            "https://netzpolitik.org                  2460\n",
            "https://bit.ly                           1415\n",
            "https://www.tichyseinblick.de            1123\n",
            "https://www.piratenpartei.de             1012\n",
            "https://www.reporter-ohne-grenzen.de      766\n",
            "https://www.faz.net                       669\n",
            "https://www.spiegel.de                    659\n",
            "https://www.handelsblatt.com              658\n",
            "https://www.gutjahr.biz                   583\n",
            "https://www.der-postillon.com             549\n",
            "https://www.welt.de                       481\n",
            "https://glm.io                            474\n",
            "https://philosophia-perennis.com          467\n",
            "https://spon.de                           454\n",
            "https://www.zeit.de                       437\n",
            "https://www.djv.de                        413\n",
            "https://www.facebook.com                  413\n",
            "https://www.tagesschau.de                 402\n",
            "Name: count, dtype: int64\n"
          ]
        }
      ],
      "source": [
        "# Most shared DOMAINS in cluster BLUE\n",
        "\n",
        "url_countsbl = df_blue['cleaned_url'].value_counts()\n",
        "print(url_countsbl[:20])"
      ]
    },
    {
      "cell_type": "code",
      "execution_count": 287,
      "metadata": {
        "id": "_SakCAKk6oJa"
      },
      "outputs": [
        {
          "name": "stdout",
          "output_type": "stream",
          "text": [
            "cleaned_url\n",
            "https://twitter.com                       46048\n",
            "https://www.tichyseinblick.de              5727\n",
            "https://philosophia-perennis.com           4084\n",
            "https://www.facebook.com                   3728\n",
            "https://www.heise.de                       1998\n",
            "https://www.welt.de                        1997\n",
            "https://www.bild.de                        1603\n",
            "https://jungefreiheit.de                   1356\n",
            "https://www.steinhoefel.com                 922\n",
            "https://fb.me                               910\n",
            "https://www.handelsblatt.com                832\n",
            "https://www.europa-konzept.eu               800\n",
            "https://www.youtube.com                     723\n",
            "https://blogs.faz.net                       703\n",
            "https://youtu.be                            690\n",
            "https://www.faz.net                         685\n",
            "https://www.afd.de                          672\n",
            "https://bit.ly                              656\n",
            "https://www.nzz.ch                          645\n",
            "https://facebook-sperre.steinhoefel.de      548\n",
            "Name: count, dtype: int64\n"
          ]
        }
      ],
      "source": [
        "# Most shared DOMAINS in cluster PURPLE\n",
        "\n",
        "url_countspu = df_purple['cleaned_url'].value_counts()\n",
        "print(url_countspu[:20])"
      ]
    },
    {
      "cell_type": "code",
      "execution_count": 288,
      "metadata": {
        "id": "-giOr_Uz6zEk"
      },
      "outputs": [
        {
          "name": "stdout",
          "output_type": "stream",
          "text": [
            "cleaned_url\n",
            "https://twitter.com                 14023\n",
            "https://www.tichyseinblick.de         946\n",
            "https://www.heise.de                  813\n",
            "https://www.welt.de                   436\n",
            "https://bit.ly                        409\n",
            "https://www.faz.net                   396\n",
            "https://philosophia-perennis.com      374\n",
            "https://netzpolitik.org               370\n",
            "https://www.handelsblatt.com          350\n",
            "https://www.facebook.com              339\n",
            "https://blogs.faz.net                 325\n",
            "https://www.bild.de                   282\n",
            "https://www.youtube.com               228\n",
            "https://www.spiegel.de                225\n",
            "https://youtu.be                      219\n",
            "https://fb.me                         197\n",
            "https://spon.de                       182\n",
            "https://www.tagesspiegel.de           179\n",
            "https://buff.ly                       177\n",
            "https://www.tagesschau.de             176\n",
            "Name: count, dtype: int64\n"
          ]
        }
      ],
      "source": [
        "# Most shared URLs in cluster ORANGE\n",
        "\n",
        "url_countsor = df_orange['cleaned_url'].value_counts()\n",
        "print(url_countsor[:20])"
      ]
    },
    {
      "cell_type": "code",
      "execution_count": 289,
      "metadata": {
        "id": "VSx1bkhK65iM"
      },
      "outputs": [
        {
          "name": "stdout",
          "output_type": "stream",
          "text": [
            "cleaned_url\n",
            "https://twitter.com                   4681\n",
            "https://www.heise.de                   226\n",
            "https://netzpolitik.org                184\n",
            "https://www.bundesjustizamt.de         181\n",
            "https://www.spiegel.de                 165\n",
            "https://bit.ly                         118\n",
            "https://spon.de                        108\n",
            "https://www.handelsblatt.com            98\n",
            "https://www.faz.net                     72\n",
            "https://www.tagesschau.de               71\n",
            "https://taz.de                          65\n",
            "https://www.bmjv.de                     64\n",
            "https://youtu.be                        64\n",
            "https://www.zeit.de                     63\n",
            "https://heise.de                        48\n",
            "https://www.lto.de                      47\n",
            "https://www.zdf.de                      43\n",
            "https://transparency.twitter.com        41\n",
            "https://www.gesetze-im-internet.de      40\n",
            "https://www.facebook.com                38\n",
            "Name: count, dtype: int64\n"
          ]
        }
      ],
      "source": [
        "# Most shared URLs in cluster RED\n",
        "\n",
        "url_countsre = df_red['cleaned_url'].value_counts()\n",
        "print(url_countsre[:20])"
      ]
    },
    {
      "cell_type": "code",
      "execution_count": 291,
      "metadata": {
        "id": "69MDD7BR-rSN"
      },
      "outputs": [
        {
          "data": {
            "text/html": [
              "<div>\n",
              "<style scoped>\n",
              "    .dataframe tbody tr th:only-of-type {\n",
              "        vertical-align: middle;\n",
              "    }\n",
              "\n",
              "    .dataframe tbody tr th {\n",
              "        vertical-align: top;\n",
              "    }\n",
              "\n",
              "    .dataframe thead th {\n",
              "        text-align: right;\n",
              "    }\n",
              "</style>\n",
              "<table border=\"1\" class=\"dataframe\">\n",
              "  <thead>\n",
              "    <tr style=\"text-align: right;\">\n",
              "      <th></th>\n",
              "      <th>id</th>\n",
              "      <th>user_username</th>\n",
              "      <th>text</th>\n",
              "      <th>created_at</th>\n",
              "      <th>retweet_count</th>\n",
              "      <th>like_count</th>\n",
              "      <th>modularity_class</th>\n",
              "      <th>url</th>\n",
              "      <th>original_url</th>\n",
              "      <th>cleaned_url</th>\n",
              "    </tr>\n",
              "  </thead>\n",
              "  <tbody>\n",
              "    <tr>\n",
              "      <th>64</th>\n",
              "      <td>66</td>\n",
              "      <td>PaulPlotzer</td>\n",
              "      <td>RT @MaasVoll NetzDG: „Gelten für Linksradikale...</td>\n",
              "      <td>2018-05-31T17:48:31.000Z</td>\n",
              "      <td>1</td>\n",
              "      <td>0</td>\n",
              "      <td>purple</td>\n",
              "      <td>https://t.co/JOC2lC32gG</td>\n",
              "      <td>https://philosophia-perennis.com/2018/01/04/ne...</td>\n",
              "      <td>https://philosophia-perennis.com</td>\n",
              "    </tr>\n",
              "    <tr>\n",
              "      <th>97</th>\n",
              "      <td>99</td>\n",
              "      <td>Espelkamper</td>\n",
              "      <td>RT @DrDavidBerger Da werden jetzt regelrechte ...</td>\n",
              "      <td>2018-05-31T05:08:49.000Z</td>\n",
              "      <td>43</td>\n",
              "      <td>0</td>\n",
              "      <td>blue</td>\n",
              "      <td>https://t.co/nd2ivn70n9</td>\n",
              "      <td>https://philosophia-perennis.com/2018/05/29/fa...</td>\n",
              "      <td>https://philosophia-perennis.com</td>\n",
              "    </tr>\n",
              "    <tr>\n",
              "      <th>98</th>\n",
              "      <td>100</td>\n",
              "      <td>pumpenschwengel</td>\n",
              "      <td>RT @DrDavidBerger Da werden jetzt regelrechte ...</td>\n",
              "      <td>2018-05-31T04:15:14.000Z</td>\n",
              "      <td>43</td>\n",
              "      <td>0</td>\n",
              "      <td>purple</td>\n",
              "      <td>https://t.co/nd2ivn70n9</td>\n",
              "      <td>https://philosophia-perennis.com/2018/05/29/fa...</td>\n",
              "      <td>https://philosophia-perennis.com</td>\n",
              "    </tr>\n",
              "    <tr>\n",
              "      <th>101</th>\n",
              "      <td>103</td>\n",
              "      <td>Knuddelbacke</td>\n",
              "      <td>RT @DrDavidBerger Da werden jetzt regelrechte ...</td>\n",
              "      <td>2018-05-31T03:30:16.000Z</td>\n",
              "      <td>43</td>\n",
              "      <td>0</td>\n",
              "      <td>purple</td>\n",
              "      <td>https://t.co/nd2ivn70n9</td>\n",
              "      <td>https://philosophia-perennis.com/2018/05/29/fa...</td>\n",
              "      <td>https://philosophia-perennis.com</td>\n",
              "    </tr>\n",
              "    <tr>\n",
              "      <th>102</th>\n",
              "      <td>104</td>\n",
              "      <td>Kawajoerg</td>\n",
              "      <td>RT @DrDavidBerger Da werden jetzt regelrechte ...</td>\n",
              "      <td>2018-05-31T02:08:38.000Z</td>\n",
              "      <td>43</td>\n",
              "      <td>0</td>\n",
              "      <td>orange</td>\n",
              "      <td>https://t.co/nd2ivn70n9</td>\n",
              "      <td>https://philosophia-perennis.com/2018/05/29/fa...</td>\n",
              "      <td>https://philosophia-perennis.com</td>\n",
              "    </tr>\n",
              "    <tr>\n",
              "      <th>...</th>\n",
              "      <td>...</td>\n",
              "      <td>...</td>\n",
              "      <td>...</td>\n",
              "      <td>...</td>\n",
              "      <td>...</td>\n",
              "      <td>...</td>\n",
              "      <td>...</td>\n",
              "      <td>...</td>\n",
              "      <td>...</td>\n",
              "      <td>...</td>\n",
              "    </tr>\n",
              "    <tr>\n",
              "      <th>192380</th>\n",
              "      <td>193149</td>\n",
              "      <td>MaxFrosch1988</td>\n",
              "      <td>RT @DrDavidBerger #BoehmermannGate: Hier könne...</td>\n",
              "      <td>2018-05-08T20:38:51.000Z</td>\n",
              "      <td>114</td>\n",
              "      <td>0</td>\n",
              "      <td>purple</td>\n",
              "      <td>https://t.co/QlEmOF9MpB</td>\n",
              "      <td>https://philosophia-perennis.com/2018/05/03/bo...</td>\n",
              "      <td>https://philosophia-perennis.com</td>\n",
              "    </tr>\n",
              "    <tr>\n",
              "      <th>192393</th>\n",
              "      <td>193162</td>\n",
              "      <td>MatthiesenUwe</td>\n",
              "      <td>@DoraGezwitscher Reporter ohne Grenzen: Bundes...</td>\n",
              "      <td>2018-05-08T18:36:43.000Z</td>\n",
              "      <td>1</td>\n",
              "      <td>1</td>\n",
              "      <td>purple</td>\n",
              "      <td>https://t.co/h0GlizY5ck</td>\n",
              "      <td>https://www.tichyseinblick.de/kolumnen/alexand...</td>\n",
              "      <td>https://www.tichyseinblick.de</td>\n",
              "    </tr>\n",
              "    <tr>\n",
              "      <th>192470</th>\n",
              "      <td>193240</td>\n",
              "      <td>trident750</td>\n",
              "      <td>RT @DrDavidBerger #BoehmermannGate: Hier könne...</td>\n",
              "      <td>2018-05-08T00:57:48.000Z</td>\n",
              "      <td>114</td>\n",
              "      <td>0</td>\n",
              "      <td>purple</td>\n",
              "      <td>https://t.co/QlEmOF9MpB</td>\n",
              "      <td>https://philosophia-perennis.com/2018/05/03/bo...</td>\n",
              "      <td>https://philosophia-perennis.com</td>\n",
              "    </tr>\n",
              "    <tr>\n",
              "      <th>192479</th>\n",
              "      <td>193249</td>\n",
              "      <td>Nieheimerin</td>\n",
              "      <td>RT @DrDavidBerger #BoehmermannGate: Hier könne...</td>\n",
              "      <td>2018-05-07T21:20:03.000Z</td>\n",
              "      <td>114</td>\n",
              "      <td>0</td>\n",
              "      <td>purple</td>\n",
              "      <td>https://t.co/QlEmOF9MpB</td>\n",
              "      <td>https://philosophia-perennis.com/2018/05/03/bo...</td>\n",
              "      <td>https://philosophia-perennis.com</td>\n",
              "    </tr>\n",
              "    <tr>\n",
              "      <th>192678</th>\n",
              "      <td>193449</td>\n",
              "      <td>NiemieckaPolity</td>\n",
              "      <td>@ARD_BaB Reporter ohne Grenzen: Bundesregierun...</td>\n",
              "      <td>2018-05-14T06:43:53.000Z</td>\n",
              "      <td>0</td>\n",
              "      <td>0</td>\n",
              "      <td>blue</td>\n",
              "      <td>https://t.co/QGbrkE2PmX</td>\n",
              "      <td>https://www.tichyseinblick.de/kolumnen/alexand...</td>\n",
              "      <td>https://www.tichyseinblick.de</td>\n",
              "    </tr>\n",
              "  </tbody>\n",
              "</table>\n",
              "<p>13116 rows × 10 columns</p>\n",
              "</div>"
            ],
            "text/plain": [
              "            id    user_username  \\\n",
              "64          66      PaulPlotzer   \n",
              "97          99      Espelkamper   \n",
              "98         100  pumpenschwengel   \n",
              "101        103     Knuddelbacke   \n",
              "102        104        Kawajoerg   \n",
              "...        ...              ...   \n",
              "192380  193149    MaxFrosch1988   \n",
              "192393  193162    MatthiesenUwe   \n",
              "192470  193240       trident750   \n",
              "192479  193249      Nieheimerin   \n",
              "192678  193449  NiemieckaPolity   \n",
              "\n",
              "                                                     text  \\\n",
              "64      RT @MaasVoll NetzDG: „Gelten für Linksradikale...   \n",
              "97      RT @DrDavidBerger Da werden jetzt regelrechte ...   \n",
              "98      RT @DrDavidBerger Da werden jetzt regelrechte ...   \n",
              "101     RT @DrDavidBerger Da werden jetzt regelrechte ...   \n",
              "102     RT @DrDavidBerger Da werden jetzt regelrechte ...   \n",
              "...                                                   ...   \n",
              "192380  RT @DrDavidBerger #BoehmermannGate: Hier könne...   \n",
              "192393  @DoraGezwitscher Reporter ohne Grenzen: Bundes...   \n",
              "192470  RT @DrDavidBerger #BoehmermannGate: Hier könne...   \n",
              "192479  RT @DrDavidBerger #BoehmermannGate: Hier könne...   \n",
              "192678  @ARD_BaB Reporter ohne Grenzen: Bundesregierun...   \n",
              "\n",
              "                      created_at  retweet_count  like_count modularity_class  \\\n",
              "64      2018-05-31T17:48:31.000Z              1           0           purple   \n",
              "97      2018-05-31T05:08:49.000Z             43           0             blue   \n",
              "98      2018-05-31T04:15:14.000Z             43           0           purple   \n",
              "101     2018-05-31T03:30:16.000Z             43           0           purple   \n",
              "102     2018-05-31T02:08:38.000Z             43           0           orange   \n",
              "...                          ...            ...         ...              ...   \n",
              "192380  2018-05-08T20:38:51.000Z            114           0           purple   \n",
              "192393  2018-05-08T18:36:43.000Z              1           1           purple   \n",
              "192470  2018-05-08T00:57:48.000Z            114           0           purple   \n",
              "192479  2018-05-07T21:20:03.000Z            114           0           purple   \n",
              "192678  2018-05-14T06:43:53.000Z              0           0             blue   \n",
              "\n",
              "                            url  \\\n",
              "64      https://t.co/JOC2lC32gG   \n",
              "97      https://t.co/nd2ivn70n9   \n",
              "98      https://t.co/nd2ivn70n9   \n",
              "101     https://t.co/nd2ivn70n9   \n",
              "102     https://t.co/nd2ivn70n9   \n",
              "...                         ...   \n",
              "192380  https://t.co/QlEmOF9MpB   \n",
              "192393  https://t.co/h0GlizY5ck   \n",
              "192470  https://t.co/QlEmOF9MpB   \n",
              "192479  https://t.co/QlEmOF9MpB   \n",
              "192678  https://t.co/QGbrkE2PmX   \n",
              "\n",
              "                                             original_url  \\\n",
              "64      https://philosophia-perennis.com/2018/01/04/ne...   \n",
              "97      https://philosophia-perennis.com/2018/05/29/fa...   \n",
              "98      https://philosophia-perennis.com/2018/05/29/fa...   \n",
              "101     https://philosophia-perennis.com/2018/05/29/fa...   \n",
              "102     https://philosophia-perennis.com/2018/05/29/fa...   \n",
              "...                                                   ...   \n",
              "192380  https://philosophia-perennis.com/2018/05/03/bo...   \n",
              "192393  https://www.tichyseinblick.de/kolumnen/alexand...   \n",
              "192470  https://philosophia-perennis.com/2018/05/03/bo...   \n",
              "192479  https://philosophia-perennis.com/2018/05/03/bo...   \n",
              "192678  https://www.tichyseinblick.de/kolumnen/alexand...   \n",
              "\n",
              "                             cleaned_url  \n",
              "64      https://philosophia-perennis.com  \n",
              "97      https://philosophia-perennis.com  \n",
              "98      https://philosophia-perennis.com  \n",
              "101     https://philosophia-perennis.com  \n",
              "102     https://philosophia-perennis.com  \n",
              "...                                  ...  \n",
              "192380  https://philosophia-perennis.com  \n",
              "192393     https://www.tichyseinblick.de  \n",
              "192470  https://philosophia-perennis.com  \n",
              "192479  https://philosophia-perennis.com  \n",
              "192678     https://www.tichyseinblick.de  \n",
              "\n",
              "[13116 rows x 10 columns]"
            ]
          },
          "execution_count": 291,
          "metadata": {},
          "output_type": "execute_result"
        }
      ],
      "source": [
        "# show only rows where value in column 'cleaned url' is https://www.tichyseinblick.de or https://philosophia-perennis.com\n",
        "\n",
        "selected_rows = df[df['cleaned_url'].isin(['https://www.tichyseinblick.de', 'https://philosophia-perennis.com'])]\n",
        "selected_rows\n"
      ]
    },
    {
      "cell_type": "code",
      "execution_count": 292,
      "metadata": {
        "id": "HQgIMEK6IycR"
      },
      "outputs": [
        {
          "name": "stdout",
          "output_type": "stream",
          "text": [
            "<class 'pandas.core.frame.DataFrame'>\n",
            "Index: 13116 entries, 64 to 192678\n",
            "Data columns (total 10 columns):\n",
            " #   Column            Non-Null Count  Dtype \n",
            "---  ------            --------------  ----- \n",
            " 0   id                13116 non-null  int64 \n",
            " 1   user_username     13116 non-null  object\n",
            " 2   text              13116 non-null  object\n",
            " 3   created_at        13116 non-null  object\n",
            " 4   retweet_count     13116 non-null  int64 \n",
            " 5   like_count        13116 non-null  int64 \n",
            " 6   modularity_class  13116 non-null  object\n",
            " 7   url               13116 non-null  object\n",
            " 8   original_url      13116 non-null  object\n",
            " 9   cleaned_url       13116 non-null  object\n",
            "dtypes: int64(3), object(7)\n",
            "memory usage: 1.1+ MB\n"
          ]
        }
      ],
      "source": [
        "selected_rows.info()"
      ]
    },
    {
      "cell_type": "code",
      "execution_count": 293,
      "metadata": {
        "id": "5dDHafLeGwg6"
      },
      "outputs": [
        {
          "name": "stdout",
          "output_type": "stream",
          "text": [
            "modularity_class\n",
            "purple       9811\n",
            "blue         1590\n",
            "orange       1320\n",
            "turquoise     358\n",
            "red            37\n",
            "Name: count, dtype: int64\n"
          ]
        }
      ],
      "source": [
        "# count values in column cluster\n",
        "\n",
        "cluster_counts = selected_rows['modularity_class'].value_counts()\n",
        "print(cluster_counts)\n"
      ]
    }
  ],
  "metadata": {
    "colab": {
      "include_colab_link": true,
      "provenance": []
    },
    "kernelspec": {
      "display_name": "base",
      "language": "python",
      "name": "python3"
    },
    "language_info": {
      "codemirror_mode": {
        "name": "ipython",
        "version": 3
      },
      "file_extension": ".py",
      "mimetype": "text/x-python",
      "name": "python",
      "nbconvert_exporter": "python",
      "pygments_lexer": "ipython3",
      "version": "3.12.7"
    }
  },
  "nbformat": 4,
  "nbformat_minor": 0
}
