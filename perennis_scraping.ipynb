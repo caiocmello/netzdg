{
  "cells": [
    {
      "cell_type": "markdown",
      "metadata": {
        "colab_type": "text",
        "id": "view-in-github"
      },
      "source": [
        "<a href=\"https://colab.research.google.com/github/caiocmello/netzdg/blob/main/perennis_scraping.ipynb\" target=\"_parent\"><img src=\"https://colab.research.google.com/assets/colab-badge.svg\" alt=\"Open In Colab\"/></a>"
      ]
    },
    {
      "cell_type": "code",
      "execution_count": 81,
      "metadata": {
        "id": "leiIsYaPZbty"
      },
      "outputs": [],
      "source": [
        "import urllib.request\n",
        "import re\n",
        "import time\n",
        "\n",
        "list_urls = []\n",
        "failedAttempts = []\n",
        "\n",
        "pattern = r'<div class=\"td-module-thumb\"><a href=\"(.*?)\"  rel=\"bookmark\"'"
      ]
    },
    {
      "cell_type": "code",
      "execution_count": 84,
      "metadata": {
        "id": "AGd9nFQYgkOa"
      },
      "outputs": [],
      "source": [
        "# Define query to be searched on the blog\n",
        "\n",
        "query = 'Gesetz+zur+Verbesserung+der+Rechtsdurchsetzung+in+sozialen+Netzwerken'"
      ]
    },
    {
      "cell_type": "code",
      "execution_count": 85,
      "metadata": {
        "id": "lVBHEghxjImt"
      },
      "outputs": [],
      "source": [
        "# Loop through the blog pages and collect URLs\n",
        "\n",
        "startValue = 1\n",
        "\n",
        "for pages in range(1, 2):\n",
        "\n",
        "  #each part of the URL. Split up to be easier to read.\n",
        "  url = 'https://philosophia-perennis.com/page/'\n",
        "  url += str(startValue)\n",
        "  url += '/?s='\n",
        "  url += query\n",
        "\n",
        " #download the page and save the result.\n",
        "  try:\n",
        "    response = urllib.request.urlopen(url)\n",
        "    webContent = response.read().decode('UTF-8')\n",
        "\n",
        "  except urllib.error.URLError:\n",
        "    failedAttempts.append(url)\n",
        "\n",
        "  # Find all matching URLs\n",
        "  urls = re.findall(pattern, webContent)\n",
        "\n",
        "  # Print the extracted URLs\n",
        "  for url in urls:\n",
        "    list_urls.append(url)\n",
        "\n",
        "  startValue = startValue + 1\n",
        "\n",
        "  time.sleep(10)"
      ]
    },
    {
      "cell_type": "code",
      "execution_count": 86,
      "metadata": {
        "colab": {
          "base_uri": "https://localhost:8080/"
        },
        "id": "2e0FzX63jpLo",
        "outputId": "e51f3859-d381-4ab8-a1f8-2b1c80527a33"
      },
      "outputs": [
        {
          "data": {
            "text/plain": [
              "['https://philosophia-perennis.com/2021/06/15/zensur-jetzt-geht-es-telegram-an-den-kragen/',\n",
              " 'https://philosophia-perennis.com/2018/03/05/rt-stahl/',\n",
              " 'https://philosophia-perennis.com/2017/06/29/bundestag-netzwerkdurchsetzungsgesetz/']"
            ]
          },
          "execution_count": 86,
          "metadata": {},
          "output_type": "execute_result"
        }
      ],
      "source": [
        "list_urls"
      ]
    },
    {
      "cell_type": "code",
      "execution_count": 67,
      "metadata": {
        "id": "1mErEf3JoxbH"
      },
      "outputs": [],
      "source": [
        "# Remove duplicates\n",
        "list_urls = list(set(list_urls))"
      ]
    },
    {
      "cell_type": "code",
      "execution_count": 87,
      "metadata": {
        "colab": {
          "base_uri": "https://localhost:8080/"
        },
        "id": "5uJTm-u8lULi",
        "outputId": "72430f55-9f58-428f-aa79-decfd101b31c"
      },
      "outputs": [
        {
          "name": "stdout",
          "output_type": "stream",
          "text": [
            "3\n"
          ]
        }
      ],
      "source": [
        "# Count how many URLs there are in list_urls\n",
        "print(len(list_urls))"
      ]
    },
    {
      "cell_type": "code",
      "execution_count": null,
      "metadata": {
        "id": "JE1RDBCau8ZS"
      },
      "outputs": [],
      "source": [
        "df_urls = pd.DataFrame(list_urls, columns=['URL'])\n",
        "display(df_urls.head())"
      ]
    },
    {
      "cell_type": "code",
      "execution_count": 89,
      "metadata": {
        "colab": {
          "base_uri": "https://localhost:8080/"
        },
        "id": "19vWNH1zpjU6",
        "outputId": "a9db134b-aff0-4720-f984-2be86f8b1182"
      },
      "outputs": [
        {
          "name": "stdout",
          "output_type": "stream",
          "text": [
            "<class 'pandas.core.frame.DataFrame'>\n",
            "RangeIndex: 3 entries, 0 to 2\n",
            "Data columns (total 1 columns):\n",
            " #   Column  Non-Null Count  Dtype \n",
            "---  ------  --------------  ----- \n",
            " 0   URL     3 non-null      object\n",
            "dtypes: object(1)\n",
            "memory usage: 156.0+ bytes\n"
          ]
        }
      ],
      "source": [
        "df_urls.info()"
      ]
    },
    {
      "cell_type": "code",
      "execution_count": 90,
      "metadata": {
        "id": "mGw1_RYTpJ9e"
      },
      "outputs": [],
      "source": [
        "df_urls.to_csv('philosophia_perennis_Gesetz+zur+Verbesserung+der+Rechtsdurchsetzung+in+sozialen+Netzwerken.csv')"
      ]
    },
    {
      "cell_type": "code",
      "execution_count": 91,
      "metadata": {
        "colab": {
          "base_uri": "https://localhost:8080/"
        },
        "id": "wyJa-299pKWa",
        "outputId": "f6f94bfc-f332-480d-82c6-fb04e1ba53b3"
      },
      "outputs": [
        {
          "data": {
            "text/plain": [
              "[]"
            ]
          },
          "execution_count": 91,
          "metadata": {},
          "output_type": "execute_result"
        }
      ],
      "source": [
        "failedAttempts"
      ]
    }
  ],
  "metadata": {
    "colab": {
      "authorship_tag": "ABX9TyNY0vOHe82iOuUKxuBjGwSU",
      "include_colab_link": true,
      "provenance": []
    },
    "kernelspec": {
      "display_name": "Python 3",
      "name": "python3"
    },
    "language_info": {
      "name": "python"
    }
  },
  "nbformat": 4,
  "nbformat_minor": 0
}
